{
 "cells": [
  {
   "cell_type": "code",
   "execution_count": 88,
   "id": "bddfc976",
   "metadata": {},
   "outputs": [],
   "source": [
    "from yaml import load, dump\n",
    "import json\n",
    "\n",
    "JOB_NAME = \"cypress_run\"\n",
    "INPUT_FILE = \"github/\" + JOB_NAME + \".yml\"\n",
    "OUTPUT_FILE = \"Outputs/github/\" + JOB_NAME + \".json\"\n",
    "\n",
    "try:\n",
    "    from yaml import CLoader as Loader, CDumper as Dumper\n",
    "except ImportError:\n",
    "    from yaml import Loader, Dumper\n",
    "    "
   ]
  },
  {
   "cell_type": "code",
   "execution_count": 90,
   "id": "126d6699",
   "metadata": {},
   "outputs": [],
   "source": [
    "yaml_file = open(INPUT_FILE, 'r')\n",
    "yaml_content = load(yaml_file, Loader=Loader)\n",
    "with open(OUTPUT_FILE, \"w\") as outfile:\n",
    "    json.dump(yaml_content, outfile)\n",
    "# print(\"Key: Value\")\n",
    "# for key, value in yaml_content.items():\n",
    "#     print(f\"{key}: {value}\")"
   ]
  },
  {
   "cell_type": "code",
   "execution_count": 43,
   "id": "cfe04f91",
   "metadata": {},
   "outputs": [],
   "source": [
    "def browseDict(keyElt, dictionary):\n",
    "    NOT_FOUND = \"\"\n",
    "    for key, value in dictionary.items():        \n",
    "        if (key == keyElt):\n",
    "            return (keyElt, value)\n",
    "        if (isinstance(value,dict)):\n",
    "            result = browseDict(keyElt, value)\n",
    "            if(result != NOT_FOUND):\n",
    "                return result\n",
    "    return NOT_FOUND           "
   ]
  },
  {
   "cell_type": "code",
   "execution_count": 91,
   "id": "3d5511e0",
   "metadata": {},
   "outputs": [],
   "source": [
    "def get_variables(dictionary):\n",
    "    variables = {}\n",
    "    _, value = browseDict(\"workflow_call\", dictionary)\n",
    "    inputs = value.get(\"inputs\", \"\")\n",
    "    secrets = value.get(\"secrets\", \"\")\n",
    "    if(inputs):\n",
    "        for key, value in inputs.items():\n",
    "            variables[key] = value.get(\"default\", \"\")\n",
    "    if(secrets):\n",
    "        for key, value in secrets.items():\n",
    "            variables[key] = value.get(\"default\", \"\")\n",
    "    return variables\n",
    "\n",
    "#get_variables(yaml_content)"
   ]
  },
  {
   "cell_type": "code",
   "execution_count": 84,
   "id": "18221814",
   "metadata": {},
   "outputs": [],
   "source": [
    "def get_docker_image(job):\n",
    "    container = job.get(\"container\", \"\")\n",
    "    if(container):\n",
    "        if(isinstance(container, str)):\n",
    "            return container\n",
    "        elif(isinstance(container, dict)):\n",
    "            return container.get(\"image\", \"\")\n",
    "    return \"\"\n",
    "    \n",
    "def get_runs_on(job):\n",
    "    return job.get(\"runs-on\", \"\")\n",
    "\n",
    "def get_steps(job):\n",
    "    return job.get(\"steps\", [])\n",
    "\n",
    "def get_artifacts(steps):\n",
    "    artifacts = {}\n",
    "    for elt in steps:\n",
    "        if \"actions/upload-artifact\" in elt.get(\"uses\", \"\"):\n",
    "            artifacts[\"name\"] = elt[\"with\"].get(\"name\", \"\")\n",
    "            artifacts[\"paths\"] = elt[\"with\"].get(\"path\", \"\").splitlines()\n",
    "    return artifacts\n",
    "    \n",
    "def get_cache(steps):\n",
    "    cache = {}\n",
    "    for elt in steps:\n",
    "        if \"actions/cache\" in elt.get(\"uses\", \"\"):\n",
    "            cache[\"key\"] = elt[\"with\"].get(\"key\", \"\")\n",
    "            cache[\"paths\"] = elt[\"with\"].get(\"path\", \"\").splitlines()\n",
    "    return cache\n",
    "     "
   ]
  },
  {
   "cell_type": "code",
   "execution_count": 92,
   "id": "6b9e96ed",
   "metadata": {},
   "outputs": [],
   "source": [
    "jobs_list = []\n",
    "_,jobs = browseDict(\"jobs\", yaml_content)\n",
    "for key, value in jobs.items():\n",
    "    jobs_list.append((key, value))\n",
    "_, job = jobs_list[0]"
   ]
  },
  {
   "cell_type": "code",
   "execution_count": 93,
   "id": "8709c550",
   "metadata": {},
   "outputs": [
    {
     "name": "stdout",
     "output_type": "stream",
     "text": [
      "Artifacts: {'name': 'cypress-screenshots', 'paths': ['cypress/screenshots']}\n",
      "Cache {'key': \"${{runner.os}}-build-${{env.cache-name}}-${{hashFiles('**/package-lock.json')}}\", 'paths': ['~/.npm', '~/.cache/Cypress']}\n"
     ]
    }
   ],
   "source": [
    "steps = get_steps(job)\n",
    "artifacts = get_artifacts(steps)\n",
    "cache = get_cache(steps)\n",
    "print(\"Artifacts:\",artifacts)\n",
    "print(\"Cache\", cache)"
   ]
  },
  {
   "cell_type": "code",
   "execution_count": 81,
   "id": "7284d5ee",
   "metadata": {},
   "outputs": [
    {
     "name": "stdout",
     "output_type": "stream",
     "text": [
      "Lines []\n"
     ]
    }
   ],
   "source": [
    "lines = \"~/.npm\\n~/.cache/Cypress\\n\".splitlines()\n",
    "for line in lines:\n",
    "    print(line)\n",
    "print(\"Lines\", lines)"
   ]
  },
  {
   "cell_type": "code",
   "execution_count": null,
   "id": "cb3a42a9",
   "metadata": {},
   "outputs": [],
   "source": [
    "from os.path import basename, splitext\n",
    "from collections import OrderedDict\n",
    "gitlab_cicd_dict = OrderedDict()\n",
    "job_name,_ = splitext(basename(INPUT_FILE))\n",
    "gitlab_cicd_dict[job_name] = {\n",
    "    \"image\": \"\",\n",
    "    \"cache\": {},\n",
    "    \"variables\": {},\n",
    "    \"script\": []\n",
    "}\n",
    "            \n"
   ]
  }
 ],
 "metadata": {
  "kernelspec": {
   "display_name": "Python 3 (ipykernel)",
   "language": "python",
   "name": "python3"
  },
  "language_info": {
   "codemirror_mode": {
    "name": "ipython",
    "version": 3
   },
   "file_extension": ".py",
   "mimetype": "text/x-python",
   "name": "python",
   "nbconvert_exporter": "python",
   "pygments_lexer": "ipython3",
   "version": "3.9.5"
  }
 },
 "nbformat": 4,
 "nbformat_minor": 5
}
